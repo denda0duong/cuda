{
  "cells": [
    {
      "cell_type": "markdown",
      "metadata": {
        "id": "eGBgThS8q8k3"
      },
      "source": [
        "Full name: Trần Đăng Khoa\n",
        "\n",
        "Student ID: 20280054"
      ]
    },
    {
      "cell_type": "markdown",
      "metadata": {
        "id": "7qdrvDrCrnqz"
      },
      "source": [
        "# HW4: Parallel Radix Sort"
      ]
    },
    {
      "cell_type": "markdown",
      "metadata": {
        "id": "VKXB0wA7yhq9"
      },
      "source": [
        "**To compile your file, you can use this command:** \\\n",
        "`nvcc tên-file.cu -o tên-file-chạy` \\\n",
        "***You can use Vietnamese to anwser the questions***"
      ]
    },
    {
      "cell_type": "markdown",
      "metadata": {
        "id": "4ecZS1ceUUVe"
      },
      "source": [
        "Fetch code from github"
      ]
    },
    {
      "cell_type": "code",
      "execution_count": 18,
      "metadata": {
        "colab": {
          "base_uri": "https://localhost:8080/"
        },
        "id": "cO4uMQ7rUXYb",
        "outputId": "518f99bb-1672-4b55-f378-02aacc7de75e"
      },
      "outputs": [
        {
          "name": "stdout",
          "output_type": "stream",
          "text": [
            "/content\n",
            "Cloning into 'cuda'...\n",
            "remote: Enumerating objects: 10, done.\u001b[K\n",
            "remote: Counting objects: 100% (10/10), done.\u001b[K\n",
            "remote: Compressing objects: 100% (8/8), done.\u001b[K\n",
            "remote: Total 10 (delta 1), reused 0 (delta 0), pack-reused 0\u001b[K\n",
            "Receiving objects: 100% (10/10), 180.58 KiB | 2.38 MiB/s, done.\n",
            "Resolving deltas: 100% (1/1), done.\n"
          ]
        }
      ],
      "source": [
        "%cd /content\n",
        "!rm -rf cuda\n",
        "!git clone -b HW4 https://github.com/denda0duong/cuda.git"
      ]
    },
    {
      "cell_type": "markdown",
      "metadata": {
        "id": "19pLMGycUb_S"
      },
      "source": [
        "Change working directory to HW4 folder:"
      ]
    },
    {
      "cell_type": "code",
      "execution_count": 19,
      "metadata": {
        "colab": {
          "base_uri": "https://localhost:8080/"
        },
        "id": "l9WLDCUJUhUY",
        "outputId": "00fd0930-617f-4180-8124-d51080f6d2ca"
      },
      "outputs": [
        {
          "name": "stdout",
          "output_type": "stream",
          "text": [
            "/content/cuda/HW4\n"
          ]
        }
      ],
      "source": [
        "%cd ./cuda/HW4"
      ]
    },
    {
      "cell_type": "markdown",
      "metadata": {
        "id": "uls9PVtJUkNZ"
      },
      "source": [
        "You can verify by run `pwd`"
      ]
    },
    {
      "cell_type": "code",
      "execution_count": 20,
      "metadata": {
        "colab": {
          "base_uri": "https://localhost:8080/"
        },
        "id": "ezUeJ5gfUn-O",
        "outputId": "9f2819f2-6d78-4ebb-d5a4-f6d3a0a4c153"
      },
      "outputs": [
        {
          "name": "stdout",
          "output_type": "stream",
          "text": [
            "/content/cuda/HW4\n"
          ]
        }
      ],
      "source": [
        "!pwd"
      ]
    },
    {
      "cell_type": "code",
      "execution_count": 21,
      "metadata": {
        "id": "tbFLx1i4JxIE"
      },
      "outputs": [],
      "source": [
        "!nvcc -arch=sm_{major}{minor} HW4.cu -o HW4"
      ]
    },
    {
      "cell_type": "code",
      "execution_count": 22,
      "metadata": {
        "colab": {
          "base_uri": "https://localhost:8080/"
        },
        "id": "aZNqZuECjNso",
        "outputId": "d76a8ccf-3c87-4ed0-96e2-f3506a20836d"
      },
      "outputs": [
        {
          "name": "stdout",
          "output_type": "stream",
          "text": [
            "**********GPU info**********\n",
            "Name: Tesla T4\n",
            "Compute capability: 7.5\n",
            "Num SMs: 40\n",
            "Max num threads per SM: 1024\n",
            "Max num warps per SM: 32\n",
            "GMEM: 15835660288 byte\n",
            "SMEM per SM: 65536 byte\n",
            "SMEM per block: 49152 byte\n",
            "****************************\n",
            "\n",
            "Input size: 16777217\n",
            "\n",
            "Radix Sort by host\n",
            "Time: 10537.771 ms\n",
            "\n",
            "Radix Sort by device\n",
            "Time: 1026.930 ms\n",
            "CORRECT :)\n"
          ]
        }
      ],
      "source": [
        "!./HW4 256"
      ]
    },
    {
      "cell_type": "code",
      "execution_count": 23,
      "metadata": {
        "colab": {
          "base_uri": "https://localhost:8080/"
        },
        "id": "NVFUj14OYUyy",
        "outputId": "2f135307-7bf3-456d-8a12-4e9b96a6c5fd"
      },
      "outputs": [
        {
          "name": "stdout",
          "output_type": "stream",
          "text": [
            "**********GPU info**********\n",
            "Name: Tesla T4\n",
            "Compute capability: 7.5\n",
            "Num SMs: 40\n",
            "Max num threads per SM: 1024\n",
            "Max num warps per SM: 32\n",
            "GMEM: 15835660288 byte\n",
            "SMEM per SM: 65536 byte\n",
            "SMEM per block: 49152 byte\n",
            "****************************\n",
            "\n",
            "Input size: 16777217\n",
            "\n",
            "Radix Sort by host\n",
            "Time: 9669.100 ms\n",
            "\n",
            "Radix Sort by device\n",
            "Time: 633.511 ms\n",
            "CORRECT :)\n"
          ]
        }
      ],
      "source": [
        "!./HW4 512"
      ]
    },
    {
      "cell_type": "code",
      "execution_count": 24,
      "metadata": {
        "colab": {
          "base_uri": "https://localhost:8080/"
        },
        "id": "jluEYlcMM6Mr",
        "outputId": "49e2b039-9e59-4e14-ed74-f2303d875c96"
      },
      "outputs": [
        {
          "name": "stdout",
          "output_type": "stream",
          "text": [
            "**********GPU info**********\n",
            "Name: Tesla T4\n",
            "Compute capability: 7.5\n",
            "Num SMs: 40\n",
            "Max num threads per SM: 1024\n",
            "Max num warps per SM: 32\n",
            "GMEM: 15835660288 byte\n",
            "SMEM per SM: 65536 byte\n",
            "SMEM per block: 49152 byte\n",
            "****************************\n",
            "\n",
            "Input size: 16777217\n",
            "\n",
            "Radix Sort by host\n",
            "Time: 10503.666 ms\n",
            "\n",
            "Radix Sort by device\n",
            "Time: 428.412 ms\n",
            "CORRECT :)\n"
          ]
        }
      ],
      "source": [
        "!./HW4 1024"
      ]
    },
    {
      "cell_type": "markdown",
      "metadata": {
        "id": "XebMjR45-0Io"
      },
      "source": [
        "Sau 3 lần chạy, tốc độ của host là gần ngang nhau. \\\n",
        "Khi tăng blocksize lên, tốc độ của kernel sau 3 lần chạy có sự cải thiện. \\\n",
        "Khi bắt đầu scan, device scan cục bộ các block song song, sau đó scan tổng của các biến thì lần lượt. \\\n",
        "- 1 block scan được nhiều phần tử, mà mỗi phần tử nằm trong shared_mem -> giảm thời gian truy xuất. \\\n",
        "- Giảm được số phần tử trong aux array phải scan lần lượt, các phần tử này nằm ở global mem -> tăng tốc độ scan aux array."
      ]
    }
  ],
  "metadata": {
    "accelerator": "GPU",
    "colab": {
      "provenance": []
    },
    "kernelspec": {
      "display_name": "Python 3",
      "name": "python3"
    }
  },
  "nbformat": 4,
  "nbformat_minor": 0
}
